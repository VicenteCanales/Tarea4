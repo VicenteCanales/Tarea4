{
 "cells": [
  {
   "cell_type": "code",
   "execution_count": 4,
   "metadata": {},
   "outputs": [],
   "source": [
    "#variables\n",
    "x=1\n",
    "y=2\n",
    "z=3"
   ]
  },
  {
   "cell_type": "markdown",
   "metadata": {},
   "source": [
    "# Operaciones Matemáticas   \n"
   ]
  },
  {
   "cell_type": "markdown",
   "metadata": {},
   "source": [
    "## 1) Suma: \n",
    "### sea x=1 e y=2, entonces x+y ="
   ]
  },
  {
   "cell_type": "code",
   "execution_count": 31,
   "metadata": {},
   "outputs": [
    {
     "name": "stdout",
     "output_type": "stream",
     "text": [
      "3 (es el resultado de sumar 1 con 2)\n"
     ]
    }
   ],
   "source": [
    "print(f\"{x+y} (es el resultado de sumar {x} con {y})\")"
   ]
  },
  {
   "cell_type": "markdown",
   "metadata": {},
   "source": [
    "## 2) Resta: \n",
    "### sea z=3 e y=2, entonces z-y="
   ]
  },
  {
   "cell_type": "code",
   "execution_count": 32,
   "metadata": {},
   "outputs": [
    {
     "name": "stdout",
     "output_type": "stream",
     "text": [
      "1 (es el resultado de restar 3 con 2)\n"
     ]
    }
   ],
   "source": [
    "print(f\"{z-y} (es el resultado de restar {z} con {y})\")"
   ]
  },
  {
   "cell_type": "markdown",
   "metadata": {},
   "source": [
    "## 3)multiplicación:\n",
    "### sea y=2 y z=3, entonces y*z="
   ]
  },
  {
   "cell_type": "code",
   "execution_count": 33,
   "metadata": {},
   "outputs": [
    {
     "name": "stdout",
     "output_type": "stream",
     "text": [
      "6 (es el resultado de multiplicar 2 por 3)\n"
     ]
    }
   ],
   "source": [
    "print(f\"{z*y} (es el resultado de multiplicar {y} por {z})\")"
   ]
  },
  {
   "cell_type": "markdown",
   "metadata": {},
   "source": [
    "## 4) Division:\n",
    "### sea z=3 e y=2, entonces z/y ="
   ]
  },
  {
   "cell_type": "code",
   "execution_count": 34,
   "metadata": {},
   "outputs": [
    {
     "name": "stdout",
     "output_type": "stream",
     "text": [
      "1.5 (es el resultado de dividir 3 entre 2)\n"
     ]
    }
   ],
   "source": [
    "print(f\"{z/y} (es el resultado de dividir {z} entre {y})\")"
   ]
  },
  {
   "cell_type": "markdown",
   "metadata": {},
   "source": [
    "## 5) Operación Modulo:\n",
    "### sea z=3 e y=2, entonces z%y="
   ]
  },
  {
   "cell_type": "code",
   "execution_count": 36,
   "metadata": {},
   "outputs": [
    {
     "name": "stdout",
     "output_type": "stream",
     "text": [
      "1 (es el resultado de 3%2, ya que el resto de aquella operacion es 1)\n"
     ]
    }
   ],
   "source": [
    "print(f\"{z%y} (es el resultado de {z}%{y}, ya que el resto de aquella operacion es 1)\")"
   ]
  }
 ],
 "metadata": {
  "kernelspec": {
   "display_name": "Python 3",
   "language": "python",
   "name": "python3"
  },
  "language_info": {
   "codemirror_mode": {
    "name": "ipython",
    "version": 3
   },
   "file_extension": ".py",
   "mimetype": "text/x-python",
   "name": "python",
   "nbconvert_exporter": "python",
   "pygments_lexer": "ipython3",
   "version": "3.8.3"
  }
 },
 "nbformat": 4,
 "nbformat_minor": 4
}
