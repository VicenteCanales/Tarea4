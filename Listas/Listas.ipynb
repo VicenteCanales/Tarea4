{
 "cells": [
  {
   "cell_type": "markdown",
   "metadata": {},
   "source": [
    "# Notas Finales"
   ]
  },
  {
   "cell_type": "code",
   "execution_count": 9,
   "metadata": {},
   "outputs": [],
   "source": [
    "diccionario=dict(Nombre1='Fresia',Nombre2='Vicente',Nombre3='Dante',Nombre4='Leon',\n",
    "                 Apellido1='Contreras',Apellido2='Canales',Apellido3='Morales',Apellido4='Venegas',\n",
    "                Nota1a='6.5',Nota1b='5.0',Nota2a='6.7',Nota2b='5.5',Nota3a='7.0',Nota3b='7.0',Nota4a='3.5',Nota4b='4.5',\n",
    "                Curso1='Física',Curso2='Programación')"
   ]
  },
  {
   "cell_type": "markdown",
   "metadata": {},
   "source": [
    "### Alumno:"
   ]
  },
  {
   "cell_type": "code",
   "execution_count": 24,
   "metadata": {},
   "outputs": [
    {
     "name": "stdout",
     "output_type": "stream",
     "text": [
      "Fresia Contreras Física 6.5 Programación 5.0\n"
     ]
    }
   ],
   "source": [
    "print(diccionario['Nombre1'],diccionario['Apellido1'],diccionario['Curso1'],diccionario['Nota1a'],diccionario['Curso2'],diccionario['Nota1b'])"
   ]
  },
  {
   "cell_type": "code",
   "execution_count": 25,
   "metadata": {},
   "outputs": [
    {
     "name": "stdout",
     "output_type": "stream",
     "text": [
      "Vicente Canales Física 6.7 Programación 5.5\n"
     ]
    }
   ],
   "source": [
    "print(diccionario['Nombre2'],diccionario['Apellido2'],diccionario['Curso1'],diccionario['Nota2a'],diccionario['Curso2'],diccionario['Nota2b'])"
   ]
  },
  {
   "cell_type": "code",
   "execution_count": 26,
   "metadata": {},
   "outputs": [
    {
     "name": "stdout",
     "output_type": "stream",
     "text": [
      "Dante Morales Física 7.0 Programación 7.0\n"
     ]
    }
   ],
   "source": [
    "print(diccionario['Nombre3'],diccionario['Apellido3'],diccionario['Curso1'],diccionario['Nota3a'],diccionario['Curso2'],diccionario['Nota3b'])"
   ]
  },
  {
   "cell_type": "code",
   "execution_count": 27,
   "metadata": {},
   "outputs": [
    {
     "name": "stdout",
     "output_type": "stream",
     "text": [
      "Leon Venegas Física 3.5 Programación 4.5\n"
     ]
    }
   ],
   "source": [
    "print(diccionario['Nombre4'],diccionario['Apellido4'],diccionario['Curso1'],diccionario['Nota4a'],diccionario['Curso2'],diccionario['Nota4b'])"
   ]
  },
  {
   "cell_type": "code",
   "execution_count": null,
   "metadata": {},
   "outputs": [],
   "source": []
  }
 ],
 "metadata": {
  "kernelspec": {
   "display_name": "Python 3",
   "language": "python",
   "name": "python3"
  },
  "language_info": {
   "codemirror_mode": {
    "name": "ipython",
    "version": 3
   },
   "file_extension": ".py",
   "mimetype": "text/x-python",
   "name": "python",
   "nbconvert_exporter": "python",
   "pygments_lexer": "ipython3",
   "version": "3.8.3"
  }
 },
 "nbformat": 4,
 "nbformat_minor": 4
}
